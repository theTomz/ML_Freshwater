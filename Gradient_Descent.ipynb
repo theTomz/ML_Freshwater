{
 "cells": [
  {
   "cell_type": "code",
   "execution_count": 1,
   "metadata": {},
   "outputs": [],
   "source": [
    "import pandas as pd\n",
    "import matplotlib.pyplot as plt\n",
    "import numpy as np\n",
    "from pandas import DataFrame"
   ]
  },
  {
   "cell_type": "code",
   "execution_count": 2,
   "metadata": {},
   "outputs": [],
   "source": [
    "#-----Import the Excel as Dataframe\n",
    "p2 = pd.read_excel('UHF.xlsx')"
   ]
  },
  {
   "cell_type": "code",
   "execution_count": 3,
   "metadata": {},
   "outputs": [],
   "source": [
    "ion = 'Cl mg/l'\n",
    "Start = 935\n",
    "Time_between_Samples = 14"
   ]
  },
  {
   "cell_type": "code",
   "execution_count": 4,
   "metadata": {},
   "outputs": [],
   "source": [
    "#-----Getting the 3 bases features\n",
    "Conduct = p2['Conductivity uS/cm']\n",
    "Conduct_V2 = Conduct[Start:]\n",
    "Conduct_V2.interpolate(inplace = True)\n",
    "\n",
    "Water = p2['water flux mm/hr']\n",
    "Water.interpolate(inplace = True)\n",
    "\n",
    "pH = p2['pH']\n",
    "pH.interpolate(inplace = True)\n",
    "Samples = len(Conduct_V2)\n",
    "\n",
    "tx = np.zeros((Samples,8))\n",
    "\n",
    "#------Log of flux, derivative of flux, yearly sinusoid\n",
    "\n",
    "log_flux = p2['log_flow']\n",
    "log_flux.interpolate(inplace=True)\n",
    "dx_flux = np.gradient(Water)\n",
    "\n",
    "YEARLY_SAMPLES = 1255\n",
    "sinusoid = np.zeros(Samples)\n",
    "for i in range(Samples):\n",
    "    sinusoid[i]= np.cos(2*i*np.pi/YEARLY_SAMPLES) +1\n",
    "\n",
    "\n",
    "#------Use a certain number of sample of our ion\n",
    "\n",
    "y1 = p2[ion]\n",
    "y = y1[Start:]\n",
    "y.interpolate(inplace = True)\n",
    "y = y.to_numpy()\n",
    "\n",
    "values = np.zeros(Samples)\n",
    "prev_values = np.zeros(Samples)\n",
    "temp = y[0]\n",
    "\n",
    "for i in range(Samples):\n",
    "    if(i%int(Time_between_Samples*3.5) == 0):\n",
    "        values[i] = y[i]\n",
    "    else:\n",
    "        values[i] = np.nan\n",
    "        \n",
    "df = DataFrame(values, columns = ['values'])\n",
    "df.interpolate(inplace= True)\n",
    "df = df.to_numpy()\n",
    "df = df.flatten()\n",
    "\n",
    "for i in range(Samples):\n",
    "    if(i != 0):\n",
    "        prev_values[i] = df[i-1]\n",
    "               \n",
    "prev_df = DataFrame(prev_values, columns = ['previous values'])\n",
    "prev_df = prev_df.to_numpy()\n",
    "prev_df = prev_df.flatten()\n",
    "\n",
    "#-----Another way to fill the ion columns: repet n times the value sampled\n",
    "values2 = []\n",
    "prev_values2 = []\n",
    "temp = y[0]\n",
    "for i in range(Samples):\n",
    "    if(i%int(Time_between_Samples*3.5) == 0):\n",
    "        prev = temp\n",
    "        temp = y[i]\n",
    "        values2.append(temp)\n",
    "        prev_values2.append(prev)\n",
    "    else:\n",
    "        values2.append(temp)\n",
    "        prev_values2.append(prev)\n",
    "\n",
    "\n",
    "\n",
    "#----------construct the feature vector\n",
    "\n",
    "tx[:,0] = Conduct_V2\n",
    "tx[:,1] = Water[Start:]\n",
    "tx[:,2] = pH[Start:]\n",
    "tx[:,3] = df\n",
    "tx[:,4] = log_flux[Start:]\n",
    "tx[:,5] = dx_flux[Start:]\n",
    "tx[:,6] = sinusoid\n",
    "tx[:,7] = prev_df\n"
   ]
  },
  {
   "cell_type": "code",
   "execution_count": 5,
   "metadata": {},
   "outputs": [],
   "source": [
    "def compute_gradient(y, tx, w):\n",
    "    \"\"\"Compute the gradient.\"\"\"\n",
    "    err = y - tx.dot(w)\n",
    "    grad = -np.dot(tx.T, err) / len(err)\n",
    "    return grad , err"
   ]
  },
  {
   "cell_type": "code",
   "execution_count": 6,
   "metadata": {},
   "outputs": [],
   "source": [
    "def calculate_mse(e):\n",
    "    \"\"\"Calculate the mse for vector e.\"\"\"\n",
    "    return 1/2*np.mean(e**2)"
   ]
  },
  {
   "cell_type": "code",
   "execution_count": 7,
   "metadata": {},
   "outputs": [],
   "source": [
    "def build_k_indices(y, k_fold, seed):\n",
    "    \"\"\"build k indices for k-fold.\"\"\"\n",
    "    num_row = y.shape[0]\n",
    "    interval = int(num_row / k_fold)\n",
    "    np.random.seed(seed)\n",
    "    indices = np.random.permutation(num_row)\n",
    "    k_indices = [indices[k * interval: (k + 1) * interval]\n",
    "                 for k in range(k_fold)]\n",
    "    return np.array(k_indices)"
   ]
  },
  {
   "cell_type": "markdown",
   "metadata": {},
   "source": [
    "Define the Gradient Descent algorithm"
   ]
  },
  {
   "cell_type": "code",
   "execution_count": 8,
   "metadata": {},
   "outputs": [],
   "source": [
    "def least_squares_GD(y, tx, initial_w ,max_iters, gamma):\n",
    "    if(initial_w is None):\n",
    "        initial_w = np.zeros(tx.shape[1])\n",
    "    # initialize parameters\n",
    "    w = initial_w\n",
    "    loss = 0\n",
    "    for n_iter in range(max_iters):\n",
    "        # compute gradient, err, and loss\n",
    "        grad, err = compute_gradient(y, tx, w)\n",
    "        loss = calculate_mse(err)\n",
    "        # update weight\n",
    "        w = w - gamma * grad\n",
    "    return w, loss\n"
   ]
  },
  {
   "cell_type": "markdown",
   "metadata": {},
   "source": [
    "Implementation of the cross validation"
   ]
  },
  {
   "cell_type": "code",
   "execution_count": 9,
   "metadata": {},
   "outputs": [],
   "source": [
    "def cross_validation(y, x, k_indices, k, regression_method, **args):\n",
    "    msk_test = k_indices[k]\n",
    "    msk_train = np.delete(k_indices, (k), axis=0).ravel()\n",
    "\n",
    "    x_tr = x[msk_train, :]\n",
    "    x_te = x[msk_test, :]\n",
    "    y_tr = y[msk_train]\n",
    "    y_te= y[msk_test]\n",
    "\n",
    "    weights, loss = least_squares_GD(y=y_tr, tx=x_tr, **args)\n",
    "\n",
    "\n",
    "    return weights, loss"
   ]
  },
  {
   "cell_type": "code",
   "execution_count": 10,
   "metadata": {},
   "outputs": [],
   "source": [
    "#Compute the mean difference between the exacts values and the computeds\n",
    "def compute_diff(y_prime,y):\n",
    "    ecart = 0\n",
    "    for i in range(len(y_prime)):\n",
    "        ecart += abs(y_prime[i]-y[i])\n",
    "    mean = ecart /  len(y_prime)\n",
    "    return mean"
   ]
  },
  {
   "cell_type": "code",
   "execution_count": 13,
   "metadata": {},
   "outputs": [
    {
     "data": {
      "image/png": "[encoded data removed]",
      "text/plain": [
       "<Figure size 432x288 with 1 Axes>"
      ]
     },
     "metadata": {
      "needs_background": "light"
     },
     "output_type": "display_data"
    },
    {
     "name": "stdout",
     "output_type": "stream",
     "text": [
      "0.2263281801789502\n"
     ]
    }
   ],
   "source": [
    "seed = 5\n",
    "k_fold = 5\n",
    "k_indices = build_k_indices(y, k_fold, seed)\n",
    "K_indices = k_indices + Start\n",
    "\n",
    "gamma = 0.001\n",
    "max_iters = 10000\n",
    "\n",
    "accs_train = []\n",
    "accs_test = []\n",
    "diff = 0\n",
    "weights = np.zeros(8)\n",
    "for k in range(k_fold):\n",
    "    weight, loss = cross_validation(y, tx, k_indices, k, least_squares_GD, initial_w=None, max_iters=max_iters, gamma=gamma)\n",
    "    weights += weight\n",
    "\n",
    "y_prime = tx@(weights/k_fold)\n",
    "plt.plot(y, label = 'Real data')\n",
    "plt.plot(y_prime, label = 'Predicted data')\n",
    "plt.ylabel('mg / L')\n",
    "plt.xlabel('Samples #')\n",
    "plt.title('Prediction')\n",
    "plt.legend()\n",
    "plt.show()\n",
    "print(compute_diff(y_prime,y))\n",
    "    \n",
    "\n",
    "\n"
   ]
  },
  {
   "cell_type": "raw",
   "metadata": {},
   "source": [
    "Compute the difference between the interpolated values of the ion and the exact ones"
   ]
  },
  {
   "cell_type": "code",
   "execution_count": 46,
   "metadata": {},
   "outputs": [
    {
     "name": "stdout",
     "output_type": "stream",
     "text": [
      "0.3296384977672159\n"
     ]
    }
   ],
   "source": [
    "print(compute_diff(df,y))"
   ]
  },
  {
   "cell_type": "code",
   "execution_count": null,
   "metadata": {},
   "outputs": [],
   "source": []
  }
 ],
 "metadata": {
  "kernelspec": {
   "display_name": "Python 3",
   "language": "python",
   "name": "python3"
  },
  "language_info": {
   "codemirror_mode": {
    "name": "ipython",
    "version": 3
   },
   "file_extension": ".py",
   "mimetype": "text/x-python",
   "name": "python",
   "nbconvert_exporter": "python",
   "pygments_lexer": "ipython3",
   "version": "3.7.6"
  }
 },
 "nbformat": 4,
 "nbformat_minor": 4
}
