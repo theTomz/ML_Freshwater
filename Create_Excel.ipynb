{
 "cells": [
  {
   "cell_type": "code",
   "execution_count": 1,
   "metadata": {},
   "outputs": [],
   "source": [
    "import pandas as pd\n",
    "import matplotlib.pyplot as plt\n",
    "import numpy as np\n",
    "from pandas import DataFrame"
   ]
  },
  {
   "cell_type": "code",
   "execution_count": 2,
   "metadata": {},
   "outputs": [],
   "source": [
    "#-----Import the Excel as Dataframe\n",
    "p2 = pd.read_excel('UHF.xlsx')"
   ]
  },
  {
   "cell_type": "code",
   "execution_count": 3,
   "metadata": {},
   "outputs": [],
   "source": [
    "Time_between_sample = 14\n",
    "Number_of_values = 2375"
   ]
  },
  {
   "cell_type": "markdown",
   "metadata": {},
   "source": [
    "Construction of the dataframe with every values and then write it on an excel file"
   ]
  },
  {
   "cell_type": "code",
   "execution_count": 4,
   "metadata": {},
   "outputs": [],
   "source": [
    "Conduct = p2['Conductivity uS/cm']\n",
    "Conduct.interpolate(inplace = True)\n",
    "Conduct = Conduct.to_numpy()\n",
    "\n",
    "Water = p2['water flux mm/hr']\n",
    "Water.interpolate(inplace = True)\n",
    "dx_flux = np.gradient(Water)\n",
    "Water = Water.to_numpy()\n",
    "\n",
    "pH = p2['pH']\n",
    "pH.interpolate(inplace = True)\n",
    "pH = pH.to_numpy()\n",
    "\n",
    "log_flux = p2['log_flow']\n",
    "log_flux.interpolate(inplace=True)\n",
    "log_flux = log_flux.to_numpy()\n",
    "\n",
    "\n",
    "y1 = p2['Cl mg/l']\n",
    "y1.interpolate(inplace = True)\n",
    "y = y1.to_numpy()\n",
    "\n",
    "values = np.zeros(Number_of_values)\n",
    "prev_values = np.zeros(Number_of_values)\n",
    "\n",
    "temp = y[0]\n",
    "for i in range(Number_of_values):\n",
    "    if(i%int(3.5*Time_between_sample) == 0):\n",
    "        values[i] = y[i]\n",
    "    else:\n",
    "        values[i] = np.nan   \n",
    "        \n",
    "df = DataFrame(values, columns = ['values'])\n",
    "df.interpolate(inplace= True)\n",
    "df = df.to_numpy()\n",
    "df = df.flatten()\n",
    "\n",
    "for i in range(len(values)):\n",
    "    if(i != 0):\n",
    "        prev_values[i] = df[i-1]\n",
    "        \n",
    "prev_df = DataFrame(prev_values, columns = ['previous values'])\n",
    "prev_df = prev_df.to_numpy()\n",
    "prev_df = prev_df.flatten()\n",
    "\n",
    "data = pd.DataFrame()\n",
    "data['Conductivity'] = Conduct\n",
    "data['Water_flux'] = Water\n",
    "data['pH'] = pH\n",
    "data['log_flux'] = log_flux\n",
    "data['dx_flux'] = dx_flux\n",
    "data['Cl interpolated values'] = df\n",
    "data['Previous value'] = prev_df\n",
    "data.interpolate(inplace = True)\n",
    "data.index = np.arange(1,len(data)+1)\n",
    "data.to_excel('./new_features' + str(Time_between_sample) + '.xlsx')\n"
   ]
  },
  {
   "cell_type": "code",
   "execution_count": null,
   "metadata": {},
   "outputs": [],
   "source": []
  }
 ],
 "metadata": {
  "kernelspec": {
   "display_name": "Python 3",
   "language": "python",
   "name": "python3"
  },
  "language_info": {
   "codemirror_mode": {
    "name": "ipython",
    "version": 3
   },
   "file_extension": ".py",
   "mimetype": "text/x-python",
   "name": "python",
   "nbconvert_exporter": "python",
   "pygments_lexer": "ipython3",
   "version": "3.7.6"
  }
 },
 "nbformat": 4,
 "nbformat_minor": 4
}
